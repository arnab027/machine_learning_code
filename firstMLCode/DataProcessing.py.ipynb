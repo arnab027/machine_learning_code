{
 "cells": [
  {
   "cell_type": "code",
   "id": "initial_id",
   "metadata": {
    "collapsed": true,
    "ExecuteTime": {
     "end_time": "2025-05-20T09:22:55.225084Z",
     "start_time": "2025-05-20T09:22:54.648838Z"
    }
   },
   "source": [
    "import pandas as pd\n",
    "import numpy as np\n",
    "import matplotlib.pyplot as plt"
   ],
   "outputs": [],
   "execution_count": 1
  },
  {
   "metadata": {
    "ExecuteTime": {
     "end_time": "2025-05-20T09:22:55.239890Z",
     "start_time": "2025-05-20T09:22:55.230450Z"
    }
   },
   "cell_type": "code",
   "source": [
    "datasaet_df = pd.read_csv(\"D:\\\\pysparkProject\\\\pythonMachineLearning\\\\Data.csv\")\n",
    "print(datasaet_df.head())"
   ],
   "id": "b54d7aed27b8d640",
   "outputs": [
    {
     "name": "stdout",
     "output_type": "stream",
     "text": [
      "   Country   Age   Salary Purchased\n",
      "0   France  44.0  72000.0        No\n",
      "1    Spain  27.0  48000.0       Yes\n",
      "2  Germany  30.0  54000.0        No\n",
      "3    Spain  38.0  61000.0        No\n",
      "4  Germany  40.0      NaN       Yes\n"
     ]
    }
   ],
   "execution_count": 2
  },
  {
   "metadata": {
    "tags": [
     "Selecting the independent Variable columns only"
    ],
    "ExecuteTime": {
     "end_time": "2025-05-20T09:22:55.381863Z",
     "start_time": "2025-05-20T09:22:55.374564Z"
    }
   },
   "cell_type": "code",
   "source": [
    "datasaet_cols_reqd_df = datasaet_df.iloc[:, :-1]\n",
    "print(datasaet_cols_reqd_df.head())\n",
    "datasaet_cols_independent_var = datasaet_cols_reqd_df.values\n",
    "print(datasaet_cols_independent_var)"
   ],
   "id": "4bf625d78b1642d0",
   "outputs": [
    {
     "name": "stdout",
     "output_type": "stream",
     "text": [
      "   Country   Age   Salary\n",
      "0   France  44.0  72000.0\n",
      "1    Spain  27.0  48000.0\n",
      "2  Germany  30.0  54000.0\n",
      "3    Spain  38.0  61000.0\n",
      "4  Germany  40.0      NaN\n",
      "[['France' 44.0 72000.0]\n",
      " ['Spain' 27.0 48000.0]\n",
      " ['Germany' 30.0 54000.0]\n",
      " ['Spain' 38.0 61000.0]\n",
      " ['Germany' 40.0 nan]\n",
      " ['France' 35.0 58000.0]\n",
      " ['Spain' nan 52000.0]\n",
      " ['France' 48.0 79000.0]\n",
      " ['Germany' 50.0 83000.0]\n",
      " ['France' 37.0 67000.0]]\n"
     ]
    }
   ],
   "execution_count": 3
  },
  {
   "metadata": {
    "ExecuteTime": {
     "end_time": "2025-05-20T09:22:55.399922Z",
     "start_time": "2025-05-20T09:22:55.393620Z"
    }
   },
   "cell_type": "code",
   "source": [
    "\"\"\"selecting  only the dependednt variable\"\"\"\n",
    "dependent_var_df = datasaet_df.iloc[:,-1]\n",
    "print(dependent_var_df.head())\n",
    "datasaet_cols_dependent_var = dependent_var_df.values\n",
    "print(datasaet_cols_dependent_var)"
   ],
   "id": "74639df277044e8",
   "outputs": [
    {
     "name": "stdout",
     "output_type": "stream",
     "text": [
      "0     No\n",
      "1    Yes\n",
      "2     No\n",
      "3     No\n",
      "4    Yes\n",
      "Name: Purchased, dtype: object\n",
      "['No' 'Yes' 'No' 'No' 'Yes' 'Yes' 'No' 'Yes' 'No' 'Yes']\n"
     ]
    }
   ],
   "execution_count": 4
  },
  {
   "metadata": {
    "ExecuteTime": {
     "end_time": "2025-05-20T09:22:55.979427Z",
     "start_time": "2025-05-20T09:22:55.414569Z"
    }
   },
   "cell_type": "code",
   "source": [
    "\"\"\"replace missing data with the average of that column using scikit learn library.\"\"\"\n",
    "from sklearn.impute import SimpleImputer\n",
    "imputer = SimpleImputer(missing_values=np.nan, strategy=\"mean\")\n",
    "imputer.fit(datasaet_cols_independent_var[:,1:3]) ## it takes only numerical values\n",
    "datasaet_cols_independent_var[:,1:3]= imputer.transform(datasaet_cols_independent_var[:,1:3])\n",
    "print(datasaet_cols_independent_var)\n",
    "\n"
   ],
   "id": "c358d49e5594fa17",
   "outputs": [
    {
     "name": "stdout",
     "output_type": "stream",
     "text": [
      "[['France' 44.0 72000.0]\n",
      " ['Spain' 27.0 48000.0]\n",
      " ['Germany' 30.0 54000.0]\n",
      " ['Spain' 38.0 61000.0]\n",
      " ['Germany' 40.0 63777.77777777778]\n",
      " ['France' 35.0 58000.0]\n",
      " ['Spain' 38.77777777777778 52000.0]\n",
      " ['France' 48.0 79000.0]\n",
      " ['Germany' 50.0 83000.0]\n",
      " ['France' 37.0 67000.0]]\n"
     ]
    }
   ],
   "execution_count": 5
  },
  {
   "metadata": {
    "ExecuteTime": {
     "end_time": "2025-05-20T09:22:56.002320Z",
     "start_time": "2025-05-20T09:22:55.991558Z"
    }
   },
   "cell_type": "code",
   "source": [
    "###Encoding independent Variable\n",
    "from sklearn.compose import ColumnTransformer\n",
    "from sklearn.preprocessing import OneHotEncoder\n",
    "### except the columns for which one hot encoding is implemented other columns will have no change - remainder='passthrough'\n",
    "###  [0] column changes will be done\n",
    "## encoding is OneHotEncoder\n",
    "ct= ColumnTransformer(transformers= [('encoder', OneHotEncoder(), [0])], remainder='passthrough')\n",
    "datasaet_cols_independent_var = np.array(ct.fit_transform(datasaet_cols_independent_var))\n",
    "print(datasaet_cols_independent_var)\n"
   ],
   "id": "2279d09efb117407",
   "outputs": [
    {
     "name": "stdout",
     "output_type": "stream",
     "text": [
      "[[1.0 0.0 0.0 44.0 72000.0]\n",
      " [0.0 0.0 1.0 27.0 48000.0]\n",
      " [0.0 1.0 0.0 30.0 54000.0]\n",
      " [0.0 0.0 1.0 38.0 61000.0]\n",
      " [0.0 1.0 0.0 40.0 63777.77777777778]\n",
      " [1.0 0.0 0.0 35.0 58000.0]\n",
      " [0.0 0.0 1.0 38.77777777777778 52000.0]\n",
      " [1.0 0.0 0.0 48.0 79000.0]\n",
      " [0.0 1.0 0.0 50.0 83000.0]\n",
      " [1.0 0.0 0.0 37.0 67000.0]]\n"
     ]
    }
   ],
   "execution_count": 6
  },
  {
   "metadata": {
    "ExecuteTime": {
     "end_time": "2025-05-20T09:22:56.022547Z",
     "start_time": "2025-05-20T09:22:56.017469Z"
    }
   },
   "cell_type": "code",
   "source": [
    "###Encoding dependent Variable using LabelEncoder\n",
    "from sklearn.preprocessing import LabelEncoder\n",
    "le = LabelEncoder()\n",
    "datasaet_cols_dependent_var =le.fit_transform(datasaet_cols_dependent_var)\n",
    "print(datasaet_cols_dependent_var)"
   ],
   "id": "d8f1659e0b63c904",
   "outputs": [
    {
     "name": "stdout",
     "output_type": "stream",
     "text": [
      "[0 1 0 0 1 1 0 1 0 1]\n"
     ]
    }
   ],
   "execution_count": 7
  },
  {
   "metadata": {
    "ExecuteTime": {
     "end_time": "2025-05-20T09:22:56.042466Z",
     "start_time": "2025-05-20T09:22:56.038914Z"
    }
   },
   "cell_type": "code",
   "source": [
    "X = datasaet_cols_independent_var\n",
    "y = datasaet_cols_dependent_var"
   ],
   "id": "f00c5b8259023190",
   "outputs": [],
   "execution_count": 8
  },
  {
   "metadata": {
    "ExecuteTime": {
     "end_time": "2025-05-20T09:22:56.062551Z",
     "start_time": "2025-05-20T09:22:56.056479Z"
    }
   },
   "cell_type": "code",
   "source": [
    "# splitting the data into train and test split ratio 0.8, 0.2\n",
    "from sklearn.model_selection import train_test_split\n",
    "X_train,X_test,y_train,y_test = train_test_split(X,y ,test_size = 0.2,random_state= 1)\n",
    "print(f\"X_train- {X_train}\")\n",
    "print(f\"X_test- {X_test}\")\n",
    "print(f\"y_train- {y_train}\")\n",
    "print(f\"y_test- {y_test}\")"
   ],
   "id": "329e5a1607ee97ea",
   "outputs": [
    {
     "name": "stdout",
     "output_type": "stream",
     "text": [
      "X_train- [[0.0 0.0 1.0 38.77777777777778 52000.0]\n",
      " [0.0 1.0 0.0 40.0 63777.77777777778]\n",
      " [1.0 0.0 0.0 44.0 72000.0]\n",
      " [0.0 0.0 1.0 38.0 61000.0]\n",
      " [0.0 0.0 1.0 27.0 48000.0]\n",
      " [1.0 0.0 0.0 48.0 79000.0]\n",
      " [0.0 1.0 0.0 50.0 83000.0]\n",
      " [1.0 0.0 0.0 35.0 58000.0]]\n",
      "X_test- [[0.0 1.0 0.0 30.0 54000.0]\n",
      " [1.0 0.0 0.0 37.0 67000.0]]\n",
      "y_train- [0 1 0 0 1 1 0 1]\n",
      "y_test- [0 1]\n"
     ]
    }
   ],
   "execution_count": 9
  },
  {
   "metadata": {
    "ExecuteTime": {
     "end_time": "2025-05-20T09:22:56.094446Z",
     "start_time": "2025-05-20T09:22:56.082948Z"
    }
   },
   "cell_type": "code",
   "source": [
    "\"\"\" # Feature Scaling ,feature scaling should be done after train and test split #\"\"\"\n",
    "from sklearn.preprocessing import StandardScaler\n",
    "sc = StandardScaler()\n"
   ],
   "id": "9bfdb16458b47567",
   "outputs": [],
   "execution_count": 10
  }
 ],
 "metadata": {
  "kernelspec": {
   "display_name": "Python 3",
   "language": "python",
   "name": "python3"
  },
  "language_info": {
   "codemirror_mode": {
    "name": "ipython",
    "version": 2
   },
   "file_extension": ".py",
   "mimetype": "text/x-python",
   "name": "python",
   "nbconvert_exporter": "python",
   "pygments_lexer": "ipython2",
   "version": "2.7.6"
  }
 },
 "nbformat": 4,
 "nbformat_minor": 5
}
